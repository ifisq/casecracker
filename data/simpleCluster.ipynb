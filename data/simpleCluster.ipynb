{
 "cells": [
  {
   "cell_type": "code",
   "execution_count": 1,
   "metadata": {},
   "outputs": [],
   "source": [
    "import matplotlib.pyplot as plt\n",
    "import pandas as pd\n",
    "import numpy as np\n",
    "from sklearn import datasets\n",
    "from kneed import KneeLocator\n",
    "from sklearn.datasets import make_blobs\n",
    "from sklearn.cluster import KMeans\n",
    "from sklearn.metrics import silhouette_score\n",
    "from sklearn.preprocessing import StandardScaler"
   ]
  },
  {
   "cell_type": "code",
   "execution_count": 2,
   "metadata": {},
   "outputs": [],
   "source": [
    "df = pd.read_csv(\"justiceCentered.csv\", encoding= 'unicode_escape')\n",
    "issueArea = df[\"issueArea\"]\n",
    "justice = df[\"justice\"]\n",
    "vote = df[\"vote\"]\n",
    "direction = df[\"direction\"]\n",
    "# 102 - 117"
   ]
  },
  {
   "cell_type": "code",
   "execution_count": 8,
   "metadata": {},
   "outputs": [
    {
     "name": "stderr",
     "output_type": "stream",
     "text": [
      "/var/folders/mt/mm6y21x90373ls9c7q3197nw0000gn/T/ipykernel_15502/3975176735.py:7: UserWarning: Boolean Series key will be reindexed to match DataFrame index.\n",
      "  justiceLeanings.append(np.mean(dataset[df['justice'] == i]))\n"
     ]
    },
    {
     "data": {
      "text/plain": [
       "[justice      102.000000\n",
       " direction      1.217822\n",
       " dtype: float64,\n",
       " justice      103.000000\n",
       " direction      1.696581\n",
       " dtype: float64,\n",
       " justice      104.000000\n",
       " direction      1.342105\n",
       " dtype: float64,\n",
       " justice      105.000000\n",
       " direction      1.287791\n",
       " dtype: float64,\n",
       " justice      106.000000\n",
       " direction      1.386534\n",
       " dtype: float64,\n",
       " justice      107.00\n",
       " direction      1.64\n",
       " dtype: float64,\n",
       " justice      108.000000\n",
       " direction      1.226757\n",
       " dtype: float64,\n",
       " justice      109.000\n",
       " direction      1.625\n",
       " dtype: float64,\n",
       " justice      110.000000\n",
       " direction      1.569476\n",
       " dtype: float64,\n",
       " justice      111.000000\n",
       " direction      1.343373\n",
       " dtype: float64,\n",
       " justice      112.000000\n",
       " direction      1.203762\n",
       " dtype: float64,\n",
       " justice      113.000000\n",
       " direction      1.655462\n",
       " dtype: float64,\n",
       " justice      114.00000\n",
       " direction      1.59799\n",
       " dtype: float64,\n",
       " justice      115.000000\n",
       " direction      1.362069\n",
       " dtype: float64,\n",
       " justice      116.000000\n",
       " direction      1.368421\n",
       " dtype: float64,\n",
       " justice      117.000000\n",
       " direction      1.230769\n",
       " dtype: float64]"
      ]
     },
     "execution_count": 8,
     "metadata": {},
     "output_type": "execute_result"
    }
   ],
   "source": [
    "justiceCP = justice[issueArea == 1]\n",
    "directionCP = direction[issueArea == 1]\n",
    "dataset = pd.DataFrame({'justice': justiceCP, 'direction': directionCP})\n",
    "\n",
    "justiceLeanings = []\n",
    "for i in range(102, 118):\n",
    "    justiceLeanings.append(np.mean(dataset[df['justice'] == i]))\n",
    "\n",
    "justiceLeanings"
   ]
  },
  {
   "cell_type": "code",
   "execution_count": null,
   "metadata": {},
   "outputs": [],
   "source": []
  }
 ],
 "metadata": {
  "interpreter": {
   "hash": "6e13971385fbd4068782eb6cf328c4e2ecfc0588e9fed8308f105a65dc505c62"
  },
  "kernelspec": {
   "display_name": "Python 3.9.7 ('data-preprocessing')",
   "language": "python",
   "name": "python3"
  },
  "language_info": {
   "codemirror_mode": {
    "name": "ipython",
    "version": 3
   },
   "file_extension": ".py",
   "mimetype": "text/x-python",
   "name": "python",
   "nbconvert_exporter": "python",
   "pygments_lexer": "ipython3",
   "version": "3.9.7"
  },
  "orig_nbformat": 4
 },
 "nbformat": 4,
 "nbformat_minor": 2
}
