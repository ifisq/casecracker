{
 "cells": [
  {
   "cell_type": "code",
   "execution_count": 71,
   "metadata": {},
   "outputs": [],
   "source": [
    "import matplotlib.pyplot as plt\n",
    "import pandas as pd\n",
    "import numpy as np\n",
    "from sklearn import datasets\n",
    "from kneed import KneeLocator\n",
    "from sklearn.datasets import make_blobs\n",
    "from sklearn.cluster import KMeans\n",
    "from sklearn.metrics import silhouette_score\n",
    "from sklearn.preprocessing import StandardScaler"
   ]
  },
  {
   "cell_type": "code",
   "execution_count": 72,
   "metadata": {},
   "outputs": [
    {
     "data": {
      "text/html": [
       "<div>\n",
       "<style scoped>\n",
       "    .dataframe tbody tr th:only-of-type {\n",
       "        vertical-align: middle;\n",
       "    }\n",
       "\n",
       "    .dataframe tbody tr th {\n",
       "        vertical-align: top;\n",
       "    }\n",
       "\n",
       "    .dataframe thead th {\n",
       "        text-align: right;\n",
       "    }\n",
       "</style>\n",
       "<table border=\"1\" class=\"dataframe\">\n",
       "  <thead>\n",
       "    <tr style=\"text-align: right;\">\n",
       "      <th></th>\n",
       "      <th>caseId</th>\n",
       "      <th>docketId</th>\n",
       "      <th>caseIssuesId</th>\n",
       "      <th>voteId</th>\n",
       "      <th>dateDecision</th>\n",
       "      <th>decisionType</th>\n",
       "      <th>usCite</th>\n",
       "      <th>sctCite</th>\n",
       "      <th>ledCite</th>\n",
       "      <th>lexisCite</th>\n",
       "      <th>...</th>\n",
       "      <th>majVotes</th>\n",
       "      <th>minVotes</th>\n",
       "      <th>justice</th>\n",
       "      <th>justiceName</th>\n",
       "      <th>vote</th>\n",
       "      <th>opinion</th>\n",
       "      <th>direction</th>\n",
       "      <th>majority</th>\n",
       "      <th>firstAgreement</th>\n",
       "      <th>secondAgreement</th>\n",
       "    </tr>\n",
       "  </thead>\n",
       "  <tbody>\n",
       "    <tr>\n",
       "      <th>0</th>\n",
       "      <td>2000-001</td>\n",
       "      <td>2000-001-01</td>\n",
       "      <td>2000-001-01-01</td>\n",
       "      <td>2000-001-01-01-01-01</td>\n",
       "      <td>10/10/2000</td>\n",
       "      <td>4</td>\n",
       "      <td>531 U.S. 1</td>\n",
       "      <td>121 S. Ct. 292</td>\n",
       "      <td>148 L. Ed. 2d 1</td>\n",
       "      <td>2000 U.S. LEXIS 6841</td>\n",
       "      <td>...</td>\n",
       "      <td>9</td>\n",
       "      <td>0</td>\n",
       "      <td>102</td>\n",
       "      <td>WHRehnquist</td>\n",
       "      <td>1.0</td>\n",
       "      <td>1.0</td>\n",
       "      <td>2.0</td>\n",
       "      <td>2.0</td>\n",
       "      <td>NaN</td>\n",
       "      <td>NaN</td>\n",
       "    </tr>\n",
       "    <tr>\n",
       "      <th>1</th>\n",
       "      <td>2000-001</td>\n",
       "      <td>2000-001-01</td>\n",
       "      <td>2000-001-01-01</td>\n",
       "      <td>2000-001-01-01-01-02</td>\n",
       "      <td>10/10/2000</td>\n",
       "      <td>4</td>\n",
       "      <td>531 U.S. 1</td>\n",
       "      <td>121 S. Ct. 292</td>\n",
       "      <td>148 L. Ed. 2d 1</td>\n",
       "      <td>2000 U.S. LEXIS 6841</td>\n",
       "      <td>...</td>\n",
       "      <td>9</td>\n",
       "      <td>0</td>\n",
       "      <td>103</td>\n",
       "      <td>JPStevens</td>\n",
       "      <td>1.0</td>\n",
       "      <td>1.0</td>\n",
       "      <td>2.0</td>\n",
       "      <td>2.0</td>\n",
       "      <td>NaN</td>\n",
       "      <td>NaN</td>\n",
       "    </tr>\n",
       "    <tr>\n",
       "      <th>2</th>\n",
       "      <td>2000-001</td>\n",
       "      <td>2000-001-01</td>\n",
       "      <td>2000-001-01-01</td>\n",
       "      <td>2000-001-01-01-01-03</td>\n",
       "      <td>10/10/2000</td>\n",
       "      <td>4</td>\n",
       "      <td>531 U.S. 1</td>\n",
       "      <td>121 S. Ct. 292</td>\n",
       "      <td>148 L. Ed. 2d 1</td>\n",
       "      <td>2000 U.S. LEXIS 6841</td>\n",
       "      <td>...</td>\n",
       "      <td>9</td>\n",
       "      <td>0</td>\n",
       "      <td>104</td>\n",
       "      <td>SDOConnor</td>\n",
       "      <td>1.0</td>\n",
       "      <td>1.0</td>\n",
       "      <td>2.0</td>\n",
       "      <td>2.0</td>\n",
       "      <td>NaN</td>\n",
       "      <td>NaN</td>\n",
       "    </tr>\n",
       "    <tr>\n",
       "      <th>3</th>\n",
       "      <td>2000-001</td>\n",
       "      <td>2000-001-01</td>\n",
       "      <td>2000-001-01-01</td>\n",
       "      <td>2000-001-01-01-01-04</td>\n",
       "      <td>10/10/2000</td>\n",
       "      <td>4</td>\n",
       "      <td>531 U.S. 1</td>\n",
       "      <td>121 S. Ct. 292</td>\n",
       "      <td>148 L. Ed. 2d 1</td>\n",
       "      <td>2000 U.S. LEXIS 6841</td>\n",
       "      <td>...</td>\n",
       "      <td>9</td>\n",
       "      <td>0</td>\n",
       "      <td>105</td>\n",
       "      <td>AScalia</td>\n",
       "      <td>1.0</td>\n",
       "      <td>1.0</td>\n",
       "      <td>2.0</td>\n",
       "      <td>2.0</td>\n",
       "      <td>NaN</td>\n",
       "      <td>NaN</td>\n",
       "    </tr>\n",
       "    <tr>\n",
       "      <th>4</th>\n",
       "      <td>2000-001</td>\n",
       "      <td>2000-001-01</td>\n",
       "      <td>2000-001-01-01</td>\n",
       "      <td>2000-001-01-01-01-05</td>\n",
       "      <td>10/10/2000</td>\n",
       "      <td>4</td>\n",
       "      <td>531 U.S. 1</td>\n",
       "      <td>121 S. Ct. 292</td>\n",
       "      <td>148 L. Ed. 2d 1</td>\n",
       "      <td>2000 U.S. LEXIS 6841</td>\n",
       "      <td>...</td>\n",
       "      <td>9</td>\n",
       "      <td>0</td>\n",
       "      <td>106</td>\n",
       "      <td>AMKennedy</td>\n",
       "      <td>1.0</td>\n",
       "      <td>1.0</td>\n",
       "      <td>2.0</td>\n",
       "      <td>2.0</td>\n",
       "      <td>NaN</td>\n",
       "      <td>NaN</td>\n",
       "    </tr>\n",
       "  </tbody>\n",
       "</table>\n",
       "<p>5 rows × 61 columns</p>\n",
       "</div>"
      ],
      "text/plain": [
       "     caseId     docketId    caseIssuesId                voteId dateDecision  \\\n",
       "0  2000-001  2000-001-01  2000-001-01-01  2000-001-01-01-01-01   10/10/2000   \n",
       "1  2000-001  2000-001-01  2000-001-01-01  2000-001-01-01-01-02   10/10/2000   \n",
       "2  2000-001  2000-001-01  2000-001-01-01  2000-001-01-01-01-03   10/10/2000   \n",
       "3  2000-001  2000-001-01  2000-001-01-01  2000-001-01-01-01-04   10/10/2000   \n",
       "4  2000-001  2000-001-01  2000-001-01-01  2000-001-01-01-01-05   10/10/2000   \n",
       "\n",
       "   decisionType      usCite         sctCite          ledCite  \\\n",
       "0             4  531 U.S. 1  121 S. Ct. 292  148 L. Ed. 2d 1   \n",
       "1             4  531 U.S. 1  121 S. Ct. 292  148 L. Ed. 2d 1   \n",
       "2             4  531 U.S. 1  121 S. Ct. 292  148 L. Ed. 2d 1   \n",
       "3             4  531 U.S. 1  121 S. Ct. 292  148 L. Ed. 2d 1   \n",
       "4             4  531 U.S. 1  121 S. Ct. 292  148 L. Ed. 2d 1   \n",
       "\n",
       "              lexisCite  ...  majVotes  minVotes justice  justiceName vote  \\\n",
       "0  2000 U.S. LEXIS 6841  ...         9         0     102  WHRehnquist  1.0   \n",
       "1  2000 U.S. LEXIS 6841  ...         9         0     103    JPStevens  1.0   \n",
       "2  2000 U.S. LEXIS 6841  ...         9         0     104    SDOConnor  1.0   \n",
       "3  2000 U.S. LEXIS 6841  ...         9         0     105      AScalia  1.0   \n",
       "4  2000 U.S. LEXIS 6841  ...         9         0     106    AMKennedy  1.0   \n",
       "\n",
       "  opinion direction  majority  firstAgreement  secondAgreement  \n",
       "0     1.0       2.0       2.0             NaN              NaN  \n",
       "1     1.0       2.0       2.0             NaN              NaN  \n",
       "2     1.0       2.0       2.0             NaN              NaN  \n",
       "3     1.0       2.0       2.0             NaN              NaN  \n",
       "4     1.0       2.0       2.0             NaN              NaN  \n",
       "\n",
       "[5 rows x 61 columns]"
      ]
     },
     "execution_count": 72,
     "metadata": {},
     "output_type": "execute_result"
    }
   ],
   "source": [
    "df = pd.read_csv(\"justiceCentered.csv\", encoding= 'unicode_escape')\n",
    "df.head()"
   ]
  },
  {
   "cell_type": "code",
   "execution_count": 73,
   "metadata": {},
   "outputs": [],
   "source": [
    "issueArea = df[\"issueArea\"]\n",
    "justice = df[\"justice\"]\n",
    "vote = df[\"vote\"]\n",
    "direction = df[\"direction\"]\n"
   ]
  },
  {
   "cell_type": "code",
   "execution_count": 74,
   "metadata": {},
   "outputs": [],
   "source": [
    "justiceCP = justice[issueArea == 1]\n"
   ]
  },
  {
   "cell_type": "code",
   "execution_count": 75,
   "metadata": {},
   "outputs": [],
   "source": [
    "directionCP = direction[issueArea == 1]"
   ]
  },
  {
   "cell_type": "code",
   "execution_count": 94,
   "metadata": {},
   "outputs": [
    {
     "data": {
      "text/plain": [
       "array([[102.,   2.],\n",
       "       [103.,   2.],\n",
       "       [104.,   2.],\n",
       "       ...,\n",
       "       [115.,   1.],\n",
       "       [116.,   1.],\n",
       "       [117.,   1.]])"
      ]
     },
     "execution_count": 94,
     "metadata": {},
     "output_type": "execute_result"
    }
   ],
   "source": [
    "dataset = pd.DataFrame({'justice': justiceCP, 'direction': directionCP})\n",
    "\n",
    "dataset.replace([np.inf, -np.inf], np.nan, inplace=True)\n",
    "dataset['justice'] = dataset['justice'].astype(float)\n",
    "# np.isnan(dataset.values.any())\n",
    "# newData = dataset.to_numpy()\n",
    "# newData\n"
   ]
  },
  {
   "cell_type": "code",
   "execution_count": 96,
   "metadata": {},
   "outputs": [],
   "source": [
    "dataset = dataset.replace((np.inf, -np.inf, np.nan), 0).reset_index(drop=True)\n"
   ]
  },
  {
   "cell_type": "code",
   "execution_count": 97,
   "metadata": {},
   "outputs": [],
   "source": [
    "kmeans = KMeans(n_clusters=3).fit(dataset)\n"
   ]
  },
  {
   "cell_type": "code",
   "execution_count": 103,
   "metadata": {},
   "outputs": [],
   "source": [
    "optimal = []\n",
    "K = range(1,10)\n",
    "for k in K:\n",
    "    kmeanModel = KMeans(n_clusters=k)\n",
    "    kmeanModel.fit(dataset)\n",
    "    optimal.append(kmeanModel.inertia_)"
   ]
  },
  {
   "cell_type": "code",
   "execution_count": 104,
   "metadata": {},
   "outputs": [
    {
     "data": {
      "image/png": "[encoded data removed]",
      "text/plain": [
       "<Figure size 1152x576 with 1 Axes>"
      ]
     },
     "metadata": {
      "needs_background": "light"
     },
     "output_type": "display_data"
    }
   ],
   "source": [
    "plt.figure(figsize=(16,8))\n",
    "plt.plot(K, optimal, 'bx-')\n",
    "plt.xlabel('k')\n",
    "plt.ylabel('Distortion')\n",
    "plt.title('The Elbow Method showing the optimal k')\n",
    "plt.show()"
   ]
  },
  {
   "cell_type": "code",
   "execution_count": 105,
   "metadata": {},
   "outputs": [
    {
     "ename": "NameError",
     "evalue": "name 'dat' is not defined",
     "output_type": "error",
     "traceback": [
      "\u001b[0;31m---------------------------------------------------------------------------\u001b[0m",
      "\u001b[0;31mNameError\u001b[0m                                 Traceback (most recent call last)",
      "\u001b[0;32m/var/folders/mt/mm6y21x90373ls9c7q3197nw0000gn/T/ipykernel_11191/1934116796.py\u001b[0m in \u001b[0;36m<module>\u001b[0;34m\u001b[0m\n\u001b[0;32m----> 1\u001b[0;31m \u001b[0mdat\u001b[0m\u001b[0;34m\u001b[0m\u001b[0;34m\u001b[0m\u001b[0m\n\u001b[0m",
      "\u001b[0;31mNameError\u001b[0m: name 'dat' is not defined"
     ]
    }
   ],
   "source": []
  },
  {
   "cell_type": "code",
   "execution_count": null,
   "metadata": {},
   "outputs": [],
   "source": []
  }
 ],
 "metadata": {
  "interpreter": {
   "hash": "6e13971385fbd4068782eb6cf328c4e2ecfc0588e9fed8308f105a65dc505c62"
  },
  "kernelspec": {
   "display_name": "Python 3.9.7 ('data-preprocessing')",
   "language": "python",
   "name": "python3"
  },
  "language_info": {
   "codemirror_mode": {
    "name": "ipython",
    "version": 3
   },
   "file_extension": ".py",
   "mimetype": "text/x-python",
   "name": "python",
   "nbconvert_exporter": "python",
   "pygments_lexer": "ipython3",
   "version": "3.9.7"
  },
  "orig_nbformat": 4
 },
 "nbformat": 4,
 "nbformat_minor": 2
}
